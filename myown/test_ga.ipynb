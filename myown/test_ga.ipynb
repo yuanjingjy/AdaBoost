{
 "cells": [
  {
   "cell_type": "code",
   "execution_count": 3,
   "metadata": {
    "collapsed": false
   },
   "outputs": [
    {
     "name": "stdout",
     "output_type": "stream",
     "text": [
      "before...\nfunc was called\nafter\n"
     ]
    }
   ],
   "source": [
    "def test(f):\n",
    "    print(\"before...\")\n",
    "    f()\n",
    "    print(\"after\")\n",
    "@test\n",
    "def f():\n",
    "    print(\"func was called\")"
   ]
  },
  {
   "cell_type": "code",
   "execution_count": 7,
   "metadata": {
    "collapsed": false
   },
   "outputs": [
    {
     "name": "stdout",
     "output_type": "stream",
     "text": [
      "before...\nfunc was called\nafter\n"
     ]
    }
   ],
   "source": [
    "def tast(f):\n",
    "    print(\"before...\")\n",
    "    f()\n",
    "    print(\"after\")\n",
    "@tast\n",
    "def f():\n",
    "    print(\"func was called\")"
   ]
  },
  {
   "cell_type": "code",
   "execution_count": 6,
   "metadata": {},
   "outputs": [],
   "source": []
  },
  {
   "cell_type": "code",
   "execution_count": null,
   "metadata": {},
   "outputs": [],
   "source": []
  }
 ],
 "metadata": {
  "kernelspec": {
   "display_name": "Python 2",
   "language": "python",
   "name": "python2"
  },
  "language_info": {
   "codemirror_mode": {
    "name": "ipython",
    "version": 2
   },
   "file_extension": ".py",
   "mimetype": "text/x-python",
   "name": "python",
   "nbconvert_exporter": "python",
   "pygments_lexer": "ipython2",
   "version": "2.7.6"
  }
 },
 "nbformat": 4,
 "nbformat_minor": 0
}
